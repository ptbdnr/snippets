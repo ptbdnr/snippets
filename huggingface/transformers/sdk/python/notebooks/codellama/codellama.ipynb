{
 "cells": [
  {
   "cell_type": "code",
   "execution_count": null,
   "metadata": {},
   "outputs": [],
   "source": [
    "%pip install -r requirements.txt"
   ]
  },
  {
   "cell_type": "code",
   "execution_count": 2,
   "metadata": {},
   "outputs": [],
   "source": [
    "# input constants\n",
    "import os\n",
    "import dotenv\n",
    "import torch\n",
    "\n",
    "dotenv.load_dotenv()\n",
    "\n",
    "HF_PRETRAINED_MODEL_NAME = \"codellama/CodeLlama-7b-Python-hf\"\n",
    "DEVICE = 'cuda' if torch.cuda.is_available() else 'cpu'  # when debugging use 'cpu' for better error messages \n"
   ]
  },
  {
   "cell_type": "code",
   "execution_count": null,
   "metadata": {},
   "outputs": [],
   "source": [
    "print(f\"HF pretrained model name: {HF_PRETRAINED_MODEL_NAME}\")\n",
    "\n",
    "print(f\"Using {DEVICE} device\")"
   ]
  },
  {
   "cell_type": "code",
   "execution_count": null,
   "metadata": {},
   "outputs": [],
   "source": [
    "# using pipelines\n",
    "from transformers import pipeline\n",
    "text_generation = pipeline(\"text-generation\", model=HF_PRETRAINED_MODEL_NAME, device=DEVICE)"
   ]
  },
  {
   "cell_type": "code",
   "execution_count": null,
   "metadata": {},
   "outputs": [],
   "source": [
    "text_generation(\"write a function to generate fibonacci sequence\", truncation=False)"
   ]
  }
 ],
 "metadata": {
  "kernelspec": {
   "display_name": ".venv",
   "language": "python",
   "name": "python3"
  },
  "language_info": {
   "codemirror_mode": {
    "name": "ipython",
    "version": 3
   },
   "file_extension": ".py",
   "mimetype": "text/x-python",
   "name": "python",
   "nbconvert_exporter": "python",
   "pygments_lexer": "ipython3",
   "version": "3.10.0"
  }
 },
 "nbformat": 4,
 "nbformat_minor": 2
}
